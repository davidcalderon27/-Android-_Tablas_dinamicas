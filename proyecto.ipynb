{
  "nbformat": 4,
  "nbformat_minor": 0,
  "metadata": {
    "colab": {
      "provenance": [],
      "authorship_tag": "ABX9TyNb6BfBvZheLTU1km+xVgPH",
      "include_colab_link": true
    },
    "kernelspec": {
      "name": "python3",
      "display_name": "Python 3"
    },
    "language_info": {
      "name": "python"
    }
  },
  "cells": [
    {
      "cell_type": "markdown",
      "metadata": {
        "id": "view-in-github",
        "colab_type": "text"
      },
      "source": [
        "<a href=\"https://colab.research.google.com/github/davidcalderon27/-Android-_Tablas_dinamicas/blob/master/proyecto.ipynb\" target=\"_parent\"><img src=\"https://colab.research.google.com/assets/colab-badge.svg\" alt=\"Open In Colab\"/></a>"
      ]
    },
    {
      "cell_type": "code",
      "execution_count": 15,
      "metadata": {
        "colab": {
          "base_uri": "https://localhost:8080/"
        },
        "id": "jdPNSn4WCfNT",
        "outputId": "f56613e4-81b3-402e-eb8c-a775664c14db"
      },
      "outputs": [
        {
          "output_type": "stream",
          "name": "stdout",
          "text": [
            "Requirement already satisfied: biopython in /usr/local/lib/python3.11/dist-packages (1.85)\n",
            "Requirement already satisfied: numpy in /usr/local/lib/python3.11/dist-packages (from biopython) (1.26.4)\n",
            "No se encontraron genes para INV.\n",
            "Secuencia 102577862 descargada en sequences/gene_102577862.fasta\n",
            "Secuencia 102577617 descargada en sequences/gene_102577617.fasta\n",
            "Secuencia 102604144 descargada en sequences/gene_102604144.fasta\n",
            "Descarga de secuencias finalizada.\n"
          ]
        }
      ],
      "source": [
        "!pip install biopython\n",
        "from Bio import Entrez, SeqIO\n",
        "import os\n",
        "\n",
        "# Configurar email para acceder a NCBI\n",
        "Entrez.email = \"wilian.calderon@est.ikiam.edu.ec\"\n",
        "# Carpeta donde se guardarán las secuencias descargadas\n",
        "sequences_folder = \"sequences/\"\n",
        "os.makedirs(sequences_folder, exist_ok=True)\n",
        "\n",
        "# Función para buscar IDs de genes en NCBI\n",
        "def search_genes(organism, gene_name, max_results=20):\n",
        "    search_query = f\"{gene_name} [Gene] AND {organism} [Organism]\"\n",
        "\n",
        "    handle = Entrez.esearch(db=\"gene\", term=search_query, retmax=max_results)\n",
        "    record = Entrez.read(handle)\n",
        "    handle.close()\n",
        "\n",
        "    return record[\"IdList\"]  # Lista de IDs de genes encontrados\n",
        "\n",
        "# Función para descargar secuencia de un gen\n",
        "def download_gene_sequence(gene_id):\n",
        "    output_fasta = os.path.join(sequences_folder, f\"gene_{gene_id}.fasta\")\n",
        "\n",
        "    handle = Entrez.efetch(db=\"nucleotide\", id=gene_id, rettype=\"fasta\", retmode=\"text\")\n",
        "    with open(output_fasta, \"w\") as f:\n",
        "        f.write(handle.read())\n",
        "    handle.close()\n",
        "\n",
        "    print(f\"Secuencia {gene_id} descargada en {output_fasta}\")\n",
        "\n",
        "# Lista de genes a buscar\n",
        "gene_list = [\"INV\", \"PFP\", \"HXK\"]  # Cambia los genes si es necesario\n",
        "organism = \"Solanum tuberosum\"\n",
        "max_genes = 10  # Número máximo de genes a descargar por cada búsqueda\n",
        "\n",
        "# Descargar secuencias para cada gen en la lista\n",
        "for gene in gene_list:\n",
        "    gene_ids = search_genes(organism, gene, max_genes)\n",
        "\n",
        "    if not gene_ids:\n",
        "        print(f\"No se encontraron genes para {gene}.\")\n",
        "        continue\n",
        "\n",
        "    for gene_id in gene_ids:\n",
        "        download_gene_sequence(gene_id)\n",
        "\n",
        "print(\"Descarga de secuencias finalizada.\")\n"
      ]
    }
  ]
}